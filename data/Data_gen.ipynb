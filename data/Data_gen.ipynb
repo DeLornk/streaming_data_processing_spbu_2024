{
 "cells": [
  {
   "cell_type": "markdown",
   "metadata": {},
   "source": [
    "Генератор данных"
   ]
  },
  {
   "cell_type": "markdown",
   "metadata": {},
   "source": [
    "Данные отражают покупку новинок Apple в различных интернет магазинах.\n",
    "\n",
    "- market - представлено 14 магазинов\n",
    "- country - всевозможные города\\ поселки России\n",
    "- product - 15 товаров Apple\n",
    "- color - 20 возможных цветов \n",
    "- price - цена в тысячах, первоначально задана в диапазоне от 90 до 300, каждые 1000 заказов (~ каждые 6 дней) цена падает на 500 р\n",
    "- card - платежная система\n",
    "- id - произвольный 7-значный номер\n",
    "- time - время получения данных по каждой операции (линейное)"
   ]
  },
  {
   "cell_type": "code",
   "execution_count": 1,
   "metadata": {},
   "outputs": [],
   "source": [
    "import datetime as datetime\n",
    "from faker import Faker\n",
    "import pandas as pd\n",
    "import random as rand\n",
    "fake = Faker('ru_RU')"
   ]
  },
  {
   "cell_type": "code",
   "execution_count": 2,
   "metadata": {},
   "outputs": [
    {
     "name": "stdout",
     "output_type": "stream",
     "text": [
      "2024-01-09 00:00:03\n",
      "2024-01-09 00:09:30\n"
     ]
    }
   ],
   "source": [
    "date_fmt = '%m/%d/%Y:%H:%M:%S'\n",
    "step = datetime.timedelta(seconds=27, minutes=9)\n",
    "start_date = datetime.datetime.strptime('1/9/2024:00:00:03', date_fmt)\n",
    "\n",
    "\n",
    "print(start_date)\n",
    "start_date += step\n",
    "print(start_date)"
   ]
  },
  {
   "cell_type": "code",
   "execution_count": 3,
   "metadata": {},
   "outputs": [],
   "source": [
    "df_apple = pd.DataFrame(columns=['market','country', 'product','color','price','card', 'id', 'time'])"
   ]
  },
  {
   "cell_type": "code",
   "execution_count": 4,
   "metadata": {},
   "outputs": [],
   "source": [
    "list_market = ['OZON', 'Wildberries','Яндекс Маркет', 're:Store','Мегамаркет','М.Видео',\n",
    "              'Эльдорадо', 'Ситилинк','DNS', 'Технопарк','Связной','Билайн','Мегафон','t2']\n",
    "\n",
    "list_prod = ['iPhone 16','iPhone 16 Plus','iPhone 16 Pro','iPhone 16 Pro Max', \n",
    "             'Apple Watch 10','Apple Watch Ultra 2','AirPods 4','AirPods Max', \n",
    "             'iPad','iPad Pro','iPad Air','iPad mini', 'Vision Pro','MacBook Air', 'MacBook Pro']\n",
    "\n",
    "list_color = ['midnight','starlight','blue','purple','space black','silver','green','yellow','pink',\n",
    "              'black', 'white', 'plata', 'gold', 'negro', 'rosa', 'amarillo', 'red', 'azul', 'grafito','verde']"
   ]
  },
  {
   "cell_type": "code",
   "execution_count": 5,
   "metadata": {},
   "outputs": [],
   "source": [
    "for i in range(10):\n",
    "    \n",
    "    market = rand.choice(list_market)  # маркетплейс\n",
    "    country = fake.city_name() #fake.country()  # города\\поселки России\n",
    "    product = rand.choice(list_prod)\n",
    "    color = rand.choice(list_color)\n",
    "    sale = round(i*0.0005)  # каждую 1000 заказов цена в среднем падает на 500 руб\n",
    "    if sale < 40:\n",
    "        price = round(rand.uniform(90, 300), 1) -  sale\n",
    "    else:\n",
    "        price = round(rand.uniform(90, 300), 1)\n",
    "    card = fake.credit_card_provider() #fake.bank()  # информация о кредитной карте\n",
    "    my_id = rand.randint(1000000, 9999999)\n",
    "    t = start_date #random_date(d1, d2)  # дата последовательно или на рандоме\n",
    "    start_date += step\n",
    "    \n",
    "    df_apple.loc[i] = [market, country, product, color, price,card, my_id, t]"
   ]
  },
  {
   "cell_type": "code",
   "execution_count": 6,
   "metadata": {},
   "outputs": [
    {
     "name": "stdout",
     "output_type": "stream",
     "text": [
      "      market   country            product        color  price  \\\n",
      "0   re:Store   Кабанск  iPhone 16 Pro Max        black  137.8   \n",
      "1       OZON    Нягань         Vision Pro         rosa  114.9   \n",
      "2   re:Store   Петушки          AirPods 4  space black  271.7   \n",
      "3    Мегафон      Кулу          iPhone 16     midnight  109.8   \n",
      "4    М.Видео    Сасово          AirPods 4         rosa  166.6   \n",
      "5    М.Видео  Цимлянск  iPhone 16 Pro Max        black  255.8   \n",
      "6    М.Видео    Охотск               iPad         azul  111.4   \n",
      "7     Билайн  Подольск        MacBook Pro         blue  116.7   \n",
      "8    Связной    Сасово           iPad Air         gold  237.5   \n",
      "9  Эльдорадо    Брянск      iPhone 16 Pro    starlight  108.4   \n",
      "\n",
      "               card       id                time  \n",
      "0               МИР  6467759 2024-01-09 00:09:30  \n",
      "1           Maestro  6048351 2024-01-09 00:18:57  \n",
      "2               МИР  8775126 2024-01-09 00:28:24  \n",
      "3         Union Pay  2898554 2024-01-09 00:37:51  \n",
      "4         Union Pay  8273995 2024-01-09 00:47:18  \n",
      "5  American Express  8734672 2024-01-09 00:56:45  \n",
      "6         Union Pay  6437688 2024-01-09 01:06:12  \n",
      "7        Mastercard  5357608 2024-01-09 01:15:39  \n",
      "8           Maestro  1158292 2024-01-09 01:25:06  \n",
      "9               МИР  3206666 2024-01-09 01:34:33  \n"
     ]
    }
   ],
   "source": [
    "print(df_apple)"
   ]
  },
  {
   "cell_type": "code",
   "execution_count": 7,
   "metadata": {},
   "outputs": [],
   "source": [
    "df_apple.to_csv('markets_apple.csv')"
   ]
  },
  {
   "cell_type": "code",
   "execution_count": null,
   "metadata": {},
   "outputs": [],
   "source": []
  }
 ],
 "metadata": {
  "kernelspec": {
   "display_name": "Python 3",
   "language": "python",
   "name": "python3"
  },
  "language_info": {
   "codemirror_mode": {
    "name": "ipython",
    "version": 3
   },
   "file_extension": ".py",
   "mimetype": "text/x-python",
   "name": "python",
   "nbconvert_exporter": "python",
   "pygments_lexer": "ipython3",
   "version": "3.8.5"
  }
 },
 "nbformat": 4,
 "nbformat_minor": 4
}
